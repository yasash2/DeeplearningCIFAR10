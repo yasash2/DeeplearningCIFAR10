{
  "nbformat": 4,
  "nbformat_minor": 5,
  "metadata": {
    "orig_nbformat": 4,
    "language_info": {
      "name": "python",
      "version": "3.7.8",
      "mimetype": "text/x-python",
      "codemirror_mode": {
        "name": "ipython",
        "version": 3
      },
      "pygments_lexer": "ipython3",
      "nbconvert_exporter": "python",
      "file_extension": ".py"
    },
    "kernelspec": {
      "name": "python3",
      "display_name": "Python 3",
      "language": "python"
    },
    "colab": {
      "name": "cifar10.ipynb",
      "provenance": [],
      "include_colab_link": true
    }
  },
  "cells": [
    {
      "cell_type": "markdown",
      "metadata": {
        "id": "view-in-github",
        "colab_type": "text"
      },
      "source": [
        "<a href=\"https://colab.research.google.com/github/yasash2/DeeplearningCIFAR10/blob/main/cifar10.ipynb\" target=\"_parent\"><img src=\"https://colab.research.google.com/assets/colab-badge.svg\" alt=\"Open In Colab\"/></a>"
      ]
    },
    {
      "cell_type": "code",
      "metadata": {
        "trusted": true,
        "id": "e974c3ce-ba53-407f-8520-77b293771291"
      },
      "source": [
        "import tensorflow as tf\n",
        "from tensorflow.keras import layers, datasets, models\n",
        "import matplotlib.pyplot as plt\n",
        "import numpy as np\n"
      ],
      "id": "e974c3ce-ba53-407f-8520-77b293771291",
      "execution_count": 1,
      "outputs": []
    },
    {
      "cell_type": "code",
      "metadata": {
        "trusted": true,
        "colab": {
          "base_uri": "https://localhost:8080/"
        },
        "id": "a1e4720d-eb18-4503-8bbd-e02c29c203a2",
        "outputId": "9f55f7d2-d5a4-43ed-a5de-bc237f90a0a5"
      },
      "source": [
        "(X_train,y_train), (X_test, y_test) = datasets.cifar10.load_data()\n",
        "X_train.shape"
      ],
      "id": "a1e4720d-eb18-4503-8bbd-e02c29c203a2",
      "execution_count": 2,
      "outputs": [
        {
          "output_type": "stream",
          "name": "stdout",
          "text": [
            "Downloading data from https://www.cs.toronto.edu/~kriz/cifar-10-python.tar.gz\n",
            "170500096/170498071 [==============================] - 6s 0us/step\n",
            "170508288/170498071 [==============================] - 6s 0us/step\n"
          ]
        },
        {
          "output_type": "execute_result",
          "data": {
            "text/plain": [
              "(50000, 32, 32, 3)"
            ]
          },
          "metadata": {},
          "execution_count": 2
        }
      ]
    },
    {
      "cell_type": "code",
      "metadata": {
        "trusted": true,
        "colab": {
          "base_uri": "https://localhost:8080/"
        },
        "id": "34c0d0f1-b5cd-4037-95ce-8c8f93223931",
        "outputId": "2e44e3ac-81da-4019-8a00-3c39300441b4"
      },
      "source": [
        "X_test.shape"
      ],
      "id": "34c0d0f1-b5cd-4037-95ce-8c8f93223931",
      "execution_count": 3,
      "outputs": [
        {
          "output_type": "execute_result",
          "data": {
            "text/plain": [
              "(10000, 32, 32, 3)"
            ]
          },
          "metadata": {},
          "execution_count": 3
        }
      ]
    },
    {
      "cell_type": "code",
      "metadata": {
        "trusted": true,
        "colab": {
          "base_uri": "https://localhost:8080/"
        },
        "id": "98c0a8a7-f2d9-4cd3-bb08-d7c2dab09a69",
        "outputId": "6f564da0-be65-4659-f29d-1b19cab18856"
      },
      "source": [
        "## Reshaping \n",
        "y_train = y_train.reshape(-1,)\n",
        "y_train"
      ],
      "id": "98c0a8a7-f2d9-4cd3-bb08-d7c2dab09a69",
      "execution_count": 4,
      "outputs": [
        {
          "output_type": "execute_result",
          "data": {
            "text/plain": [
              "array([6, 9, 9, ..., 9, 1, 1], dtype=uint8)"
            ]
          },
          "metadata": {},
          "execution_count": 4
        }
      ]
    },
    {
      "cell_type": "code",
      "metadata": {
        "trusted": true,
        "id": "c35840b7-2503-4dc0-af5c-efd9b97d36f7"
      },
      "source": [
        "classes = ['airplane', 'automobile','bird','cat', 'deer', 'dog', 'frog', 'horse','ship','truck']"
      ],
      "id": "c35840b7-2503-4dc0-af5c-efd9b97d36f7",
      "execution_count": 5,
      "outputs": []
    },
    {
      "cell_type": "code",
      "metadata": {
        "trusted": true,
        "id": "60ad2c40-a776-4327-8124-c7d2e696b2f6"
      },
      "source": [
        "def plot_sample(X,y,index):\n",
        "    plt.figure(figsize = (15,2))\n",
        "    plt.imshow(X[index])\n",
        "    \n",
        "    plt.xlabel(classes[y[index]])\n",
        "    plt.show()\n",
        "    "
      ],
      "id": "60ad2c40-a776-4327-8124-c7d2e696b2f6",
      "execution_count": 6,
      "outputs": []
    },
    {
      "cell_type": "code",
      "metadata": {
        "trusted": true,
        "colab": {
          "base_uri": "https://localhost:8080/",
          "height": 173
        },
        "id": "9ac635fd-bb04-40a9-9f50-47d3548f2c78",
        "outputId": "fa5950d2-15a4-4413-8b5f-ea3da9a110df"
      },
      "source": [
        "plot_sample(X_train,y_train,0)"
      ],
      "id": "9ac635fd-bb04-40a9-9f50-47d3548f2c78",
      "execution_count": 7,
      "outputs": [
        {
          "output_type": "display_data",
          "data": {
            "image/png": "[encoded data removed]",
            "text/plain": [
              "<Figure size 1080x144 with 1 Axes>"
            ]
          },
          "metadata": {
            "needs_background": "light"
          }
        }
      ]
    },
    {
      "cell_type": "code",
      "metadata": {
        "trusted": true,
        "id": "625ffad9-79a7-40d5-a8f8-73e65122f30f"
      },
      "source": [
        "## normalize values of an image\n",
        "## To do that, divide it by 255, as each image has pixels ranging from 0 to 255 only\n",
        "## we get an output between 0 and 1 \n",
        "X_train = X_train / 255\n",
        "X_test = X_test / 255\n",
        "\n"
      ],
      "id": "625ffad9-79a7-40d5-a8f8-73e65122f30f",
      "execution_count": 8,
      "outputs": []
    },
    {
      "cell_type": "code",
      "metadata": {
        "trusted": true,
        "colab": {
          "base_uri": "https://localhost:8080/"
        },
        "id": "634d6aae-3513-420d-ba90-a15f291a9dc1",
        "outputId": "1e2f495f-f4fe-4fec-ffc8-c3ed6b1cd13d"
      },
      "source": [
        "ann = models.Sequential([\n",
        "    layers.Flatten(input_shape = (32,32,3)),\n",
        "    layers.Dense(3000, activation = 'relu'),\n",
        "    layers.Dense(1000,activation = 'relu'),\n",
        "    layers.Dense(10, activation = 'sigmoid'),\n",
        "])\n",
        "\n",
        "ann.compile(optimizer = 'SGD',\n",
        "            loss = 'sparse_categorical_crossentropy',\n",
        "            metrics = ['accuracy'])\n",
        "ann.fit(X_train, y_train, epochs = 5)"
      ],
      "id": "634d6aae-3513-420d-ba90-a15f291a9dc1",
      "execution_count": 9,
      "outputs": [
        {
          "output_type": "stream",
          "name": "stdout",
          "text": [
            "Epoch 1/5\n",
            "1563/1563 [==============================] - 93s 59ms/step - loss: 1.8145 - accuracy: 0.3499\n",
            "Epoch 2/5\n",
            "1563/1563 [==============================] - 92s 59ms/step - loss: 1.6243 - accuracy: 0.4256\n",
            "Epoch 3/5\n",
            "1563/1563 [==============================] - 92s 59ms/step - loss: 1.5422 - accuracy: 0.4546\n",
            "Epoch 4/5\n",
            "1563/1563 [==============================] - 92s 59ms/step - loss: 1.4818 - accuracy: 0.4774\n",
            "Epoch 5/5\n",
            "1563/1563 [==============================] - 92s 59ms/step - loss: 1.4313 - accuracy: 0.4965\n"
          ]
        },
        {
          "output_type": "execute_result",
          "data": {
            "text/plain": [
              "<keras.callbacks.History at 0x7faa90460c50>"
            ]
          },
          "metadata": {},
          "execution_count": 9
        }
      ]
    },
    {
      "cell_type": "code",
      "metadata": {
        "colab": {
          "base_uri": "https://localhost:8080/"
        },
        "id": "af90d9af-177b-4d70-906a-676480bd331e",
        "outputId": "03432407-10d7-48aa-aa47-20bc11a16efb"
      },
      "source": [
        "ann.evaluate(X_test, y_test)"
      ],
      "id": "af90d9af-177b-4d70-906a-676480bd331e",
      "execution_count": 11,
      "outputs": [
        {
          "output_type": "stream",
          "name": "stdout",
          "text": [
            "313/313 [==============================] - 7s 23ms/step - loss: 1.4528 - accuracy: 0.4801\n"
          ]
        },
        {
          "output_type": "execute_result",
          "data": {
            "text/plain": [
              "[1.452837586402893, 0.48010000586509705]"
            ]
          },
          "metadata": {},
          "execution_count": 11
        }
      ]
    },
    {
      "cell_type": "code",
      "metadata": {
        "colab": {
          "base_uri": "https://localhost:8080/"
        },
        "id": "k649xclWDIU4",
        "outputId": "b69dcfe5-696f-4242-b6fc-0161c53a5830"
      },
      "source": [
        "from sklearn.metrics import confusion_matrix, classification_report\n",
        "y_pred = ann.predict(X_test)\n",
        "y_pred_classes = [np.argmax(element) for element in y_pred]\n",
        "\n",
        "print('classification report\\n', classification_report(y_test, y_pred_classes))"
      ],
      "id": "k649xclWDIU4",
      "execution_count": 12,
      "outputs": [
        {
          "output_type": "stream",
          "name": "stdout",
          "text": [
            "classification report\n",
            "               precision    recall  f1-score   support\n",
            "\n",
            "           0       0.61      0.48      0.53      1000\n",
            "           1       0.52      0.67      0.59      1000\n",
            "           2       0.36      0.44      0.39      1000\n",
            "           3       0.31      0.49      0.38      1000\n",
            "           4       0.51      0.31      0.38      1000\n",
            "           5       0.48      0.23      0.31      1000\n",
            "           6       0.57      0.47      0.52      1000\n",
            "           7       0.62      0.49      0.55      1000\n",
            "           8       0.51      0.71      0.59      1000\n",
            "           9       0.50      0.53      0.51      1000\n",
            "\n",
            "    accuracy                           0.48     10000\n",
            "   macro avg       0.50      0.48      0.48     10000\n",
            "weighted avg       0.50      0.48      0.48     10000\n",
            "\n"
          ]
        }
      ]
    },
    {
      "cell_type": "code",
      "metadata": {
        "colab": {
          "base_uri": "https://localhost:8080/"
        },
        "id": "vhP6qePXE_0D",
        "outputId": "8b592cc1-a5b0-48ad-c8a1-bb6c6f28423a"
      },
      "source": [
        "cnn = models.Sequential([\n",
        "  layers.Conv2D(filters = 32, kernel_size = (3,3), activation = 'relu', input_shape=(32,32,3)),\n",
        "  layers.MaxPooling2D((2,2)),\n",
        "  layers.Conv2D(filters = 64, kernel_size = (3,3), activation = 'relu'),\n",
        "  layers.MaxPooling2D((2,2)),\n",
        "\n",
        "  layers.Flatten(),\n",
        "  layers.Dense(64,activation = 'relu'),\n",
        "  layers.Dense(10,activation = 'softmax'),\n",
        "\n",
        "                         \n",
        "])\n",
        "\n",
        "cnn.compile(optimizer = 'adam',\n",
        "            loss = 'sparse_categorical_crossentropy',\n",
        "            metrics = ['accuracy'])\n",
        "\n",
        "cnn.fit(X_train, y_train, epochs = 10)"
      ],
      "id": "vhP6qePXE_0D",
      "execution_count": 17,
      "outputs": [
        {
          "output_type": "stream",
          "name": "stdout",
          "text": [
            "Epoch 1/10\n",
            "1563/1563 [==============================] - 59s 37ms/step - loss: 1.4495 - accuracy: 0.4808\n",
            "Epoch 2/10\n",
            "1563/1563 [==============================] - 58s 37ms/step - loss: 1.1082 - accuracy: 0.6115\n",
            "Epoch 3/10\n",
            "1563/1563 [==============================] - 57s 37ms/step - loss: 0.9813 - accuracy: 0.6581\n",
            "Epoch 4/10\n",
            "1563/1563 [==============================] - 57s 37ms/step - loss: 0.9024 - accuracy: 0.6870\n",
            "Epoch 5/10\n",
            "1563/1563 [==============================] - 57s 37ms/step - loss: 0.8355 - accuracy: 0.7107\n",
            "Epoch 6/10\n",
            "1563/1563 [==============================] - 57s 37ms/step - loss: 0.7821 - accuracy: 0.7294\n",
            "Epoch 7/10\n",
            "1563/1563 [==============================] - 57s 37ms/step - loss: 0.7293 - accuracy: 0.7449\n",
            "Epoch 8/10\n",
            "1563/1563 [==============================] - 57s 36ms/step - loss: 0.6871 - accuracy: 0.7604\n",
            "Epoch 9/10\n",
            "1563/1563 [==============================] - 57s 36ms/step - loss: 0.6439 - accuracy: 0.7752\n",
            "Epoch 10/10\n",
            "1563/1563 [==============================] - 57s 36ms/step - loss: 0.6034 - accuracy: 0.7882\n"
          ]
        },
        {
          "output_type": "execute_result",
          "data": {
            "text/plain": [
              "<keras.callbacks.History at 0x7faa8dc00d50>"
            ]
          },
          "metadata": {},
          "execution_count": 17
        }
      ]
    },
    {
      "cell_type": "code",
      "metadata": {
        "colab": {
          "base_uri": "https://localhost:8080/"
        },
        "id": "AMiEyLusYbpi",
        "outputId": "72e7b91e-21f7-4f2b-b03e-4d1fb36a13fd"
      },
      "source": [
        "cnn.evaluate(X_test,y_test)"
      ],
      "id": "AMiEyLusYbpi",
      "execution_count": 18,
      "outputs": [
        {
          "output_type": "stream",
          "name": "stdout",
          "text": [
            "313/313 [==============================] - 4s 12ms/step - loss: 0.9655 - accuracy: 0.6944\n"
          ]
        },
        {
          "output_type": "execute_result",
          "data": {
            "text/plain": [
              "[0.9655481576919556, 0.6944000124931335]"
            ]
          },
          "metadata": {},
          "execution_count": 18
        }
      ]
    },
    {
      "cell_type": "code",
      "metadata": {
        "colab": {
          "base_uri": "https://localhost:8080/"
        },
        "id": "CKOLcuLKYy7q",
        "outputId": "79831d1d-2ee2-40da-c8ba-15f6af1a9bcc"
      },
      "source": [
        "## reshape test models as well\n",
        "y_test = y_test.reshape(-1,)\n",
        "y_test"
      ],
      "id": "CKOLcuLKYy7q",
      "execution_count": 19,
      "outputs": [
        {
          "output_type": "execute_result",
          "data": {
            "text/plain": [
              "array([3, 8, 8, ..., 5, 1, 7], dtype=uint8)"
            ]
          },
          "metadata": {},
          "execution_count": 19
        }
      ]
    },
    {
      "cell_type": "code",
      "metadata": {
        "colab": {
          "base_uri": "https://localhost:8080/",
          "height": 173
        },
        "id": "ZQRKlm7qY9wh",
        "outputId": "85fc81e1-2aa8-46cd-d4c2-ced8ea924e8e"
      },
      "source": [
        "plot_sample(X_test,y_test,1)"
      ],
      "id": "ZQRKlm7qY9wh",
      "execution_count": 20,
      "outputs": [
        {
          "output_type": "display_data",
          "data": {
            "image/png": "[encoded data removed]",
            "text/plain": [
              "<Figure size 1080x144 with 1 Axes>"
            ]
          },
          "metadata": {
            "needs_background": "light"
          }
        }
      ]
    },
    {
      "cell_type": "code",
      "metadata": {
        "colab": {
          "base_uri": "https://localhost:8080/"
        },
        "id": "nV4-cHNNZzae",
        "outputId": "38622a87-494b-4897-d343-7624b67d3af8"
      },
      "source": [
        "y_pred = cnn.predict(X_test)\n",
        "y_pred[:5]"
      ],
      "id": "nV4-cHNNZzae",
      "execution_count": 21,
      "outputs": [
        {
          "output_type": "execute_result",
          "data": {
            "text/plain": [
              "array([[2.25795689e-03, 1.68688239e-05, 2.12624072e-04, 9.57655609e-01,\n",
              "        2.08220351e-03, 3.52411047e-02, 9.15498764e-04, 6.63626997e-05,\n",
              "        1.51562283e-03, 3.62251667e-05],\n",
              "       [1.49716213e-02, 4.31577027e-01, 1.51804079e-05, 5.19677178e-06,\n",
              "        4.07635252e-06, 1.88196026e-07, 3.35198251e-07, 1.86547240e-07,\n",
              "        5.23966193e-01, 2.94599477e-02],\n",
              "       [2.25043476e-01, 2.77361363e-01, 4.79156093e-04, 1.46028716e-02,\n",
              "        1.11533422e-02, 2.46769935e-03, 5.47198579e-03, 4.31664102e-03,\n",
              "        3.44437808e-01, 1.14665680e-01],\n",
              "       [9.92634237e-01, 2.87720328e-03, 1.04441587e-03, 3.02428845e-04,\n",
              "        1.35322800e-04, 1.61292846e-05, 4.95235960e-04, 7.06005721e-06,\n",
              "        1.06949103e-03, 1.41843117e-03],\n",
              "       [2.11013642e-07, 2.09945091e-03, 3.05298343e-03, 1.24908425e-01,\n",
              "        6.08365059e-01, 2.26480700e-03, 2.59260952e-01, 1.95594612e-06,\n",
              "        2.66208499e-05, 1.95929078e-05]], dtype=float32)"
            ]
          },
          "metadata": {},
          "execution_count": 21
        }
      ]
    },
    {
      "cell_type": "code",
      "metadata": {
        "colab": {
          "base_uri": "https://localhost:8080/"
        },
        "id": "E0S8XdIQZ75E",
        "outputId": "23c57bdc-45f1-4475-a2de-d2f3519414fd"
      },
      "source": [
        "y_classes = [np.argmax(element) for element in y_pred]\n",
        "y_classes[:5]"
      ],
      "id": "E0S8XdIQZ75E",
      "execution_count": 22,
      "outputs": [
        {
          "output_type": "execute_result",
          "data": {
            "text/plain": [
              "[3, 8, 8, 0, 4]"
            ]
          },
          "metadata": {},
          "execution_count": 22
        }
      ]
    },
    {
      "cell_type": "code",
      "metadata": {
        "colab": {
          "base_uri": "https://localhost:8080/"
        },
        "id": "wJByEjGYaIaU",
        "outputId": "34d0419f-7237-490e-9cef-d57698355a89"
      },
      "source": [
        "y_test[:5]"
      ],
      "id": "wJByEjGYaIaU",
      "execution_count": 24,
      "outputs": [
        {
          "output_type": "execute_result",
          "data": {
            "text/plain": [
              "array([3, 8, 8, 0, 6], dtype=uint8)"
            ]
          },
          "metadata": {},
          "execution_count": 24
        }
      ]
    },
    {
      "cell_type": "code",
      "metadata": {
        "colab": {
          "base_uri": "https://localhost:8080/"
        },
        "id": "ukd9qC6UaYbJ",
        "outputId": "5d56faa7-6dba-4b25-fc8b-f39657831f22"
      },
      "source": [
        "print('classification report\\n', classification_report(y_test, y_classes))"
      ],
      "id": "ukd9qC6UaYbJ",
      "execution_count": 25,
      "outputs": [
        {
          "output_type": "stream",
          "name": "stdout",
          "text": [
            "classification report\n",
            "               precision    recall  f1-score   support\n",
            "\n",
            "           0       0.71      0.77      0.74      1000\n",
            "           1       0.79      0.83      0.81      1000\n",
            "           2       0.71      0.45      0.55      1000\n",
            "           3       0.50      0.56      0.53      1000\n",
            "           4       0.62      0.68      0.65      1000\n",
            "           5       0.67      0.53      0.59      1000\n",
            "           6       0.66      0.83      0.74      1000\n",
            "           7       0.69      0.77      0.73      1000\n",
            "           8       0.85      0.77      0.80      1000\n",
            "           9       0.79      0.75      0.77      1000\n",
            "\n",
            "    accuracy                           0.69     10000\n",
            "   macro avg       0.70      0.69      0.69     10000\n",
            "weighted avg       0.70      0.69      0.69     10000\n",
            "\n"
          ]
        }
      ]
    }
  ]
}